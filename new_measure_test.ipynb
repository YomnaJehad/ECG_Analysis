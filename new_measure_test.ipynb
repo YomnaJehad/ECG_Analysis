{
 "cells": [
  {
   "cell_type": "code",
   "execution_count": null,
   "metadata": {},
   "outputs": [],
   "source": [
    "#MY SUGGESTED MEASURE IS THE INVERSE OF THE INDEX OF THE 2ND HIGHEST BEAT IN THE AUTOCORRELATION\n",
    "#KNOWING THAT THE HEART BEAT RATE'S NORMAL RANGE is between 60-90 bpm -->\n",
    "#Using the formula (hear_rate=60/(index*sampling_time)) -->\n",
    "#we can say that the index's normal range is 512-341.33\n",
    "#And thus the inverse's normal range is (0.00292-0.00195)\n",
    "def test_atrial_fib(file_name,sampling_time=(1/512),window_size=31):\n",
    "    bpm,index=ECG_Analysis(file_name)\n",
    "    measure=1/index\n",
    "    print(measure)\n",
    "    if ((measure>0.00195) and (measure<0.00292)) :\n",
    "        result= \"NORMAL\"\n",
    "    else:\n",
    "        result =\"ATRIAL FIB\"\n",
    "    return result\n",
    "print(\"FOR DATA1 \",test_atrial_fib(\"Data1.txt\"))\n",
    "print(\"FOR DATA2 \",test_atrial_fib(\"Data2.txt\"))\n",
    "    "
   ]
  },
  {
   "attachments": {
    "image.png": {
     "image/png": "[encoded data removed]"
    }
   },
   "cell_type": "markdown",
   "metadata": {},
   "source": [
    "A screenshot from running the code in the main file\n",
    "\n",
    "![image.png](attachment:image.png)\n"
   ]
  },
  {
   "cell_type": "code",
   "execution_count": null,
   "metadata": {},
   "outputs": [],
   "source": []
  }
 ],
 "metadata": {
  "kernelspec": {
   "display_name": "Python 3",
   "language": "python",
   "name": "python3"
  },
  "language_info": {
   "codemirror_mode": {
    "name": "ipython",
    "version": 3
   },
   "file_extension": ".py",
   "mimetype": "text/x-python",
   "name": "python",
   "nbconvert_exporter": "python",
   "pygments_lexer": "ipython3",
   "version": "3.7.0"
  }
 },
 "nbformat": 4,
 "nbformat_minor": 2
}
