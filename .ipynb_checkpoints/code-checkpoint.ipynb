{
 "cells": [
  {
   "cell_type": "code",
   "execution_count": 136,
   "metadata": {},
   "outputs": [],
   "source": [
    "#First the imports\n",
    "import numpy as np\n",
    "import matplotlib.pyplot as plt\n",
    "import matplotlib.image as mpimg \n",
    "%matplotlib inline"
   ]
  },
  {
   "cell_type": "code",
   "execution_count": 137,
   "metadata": {},
   "outputs": [],
   "source": [
    "#differentiation function\n",
    "def diff(data,sampling_time=(1/512)):\n",
    "    x_values=np.zeros((data.shape[0]))\n",
    "    for i in range (1,x_values.shape[0]):\n",
    "        x_values[i]= i\n",
    "    derivative = np.zeros((data.shape[0]))\n",
    "    for i in range(2,data.shape[0]-2):\n",
    "        derivative[i]= (1/(8*sampling_time))*(-data[i-2]-2*data[i-1]+2*data[i+1]+data[i+2])\n",
    "        \n",
    "    return derivative\n",
    "\n",
    "\n",
    "\n",
    "    "
   ]
  },
  {
   "cell_type": "code",
   "execution_count": 138,
   "metadata": {},
   "outputs": [],
   "source": [
    "#smoothing function\n",
    "def smoothing(squares,window_size=31):\n",
    "    \n",
    "    N=window_size\n",
    "    smooth=np.zeros((squares.shape[0]))\n",
    "    for i in range(N//2,(squares.shape[0]-(N//2))):\n",
    "        \n",
    "        sum=0\n",
    "        for j in range (i-(N//2), i+(N//2)):\n",
    "            \n",
    "            sum=sum+squares[j]\n",
    "        smooth[i]=(1/N)*sum\n",
    "    return smooth\n",
    "\n",
    "# data = np.loadtxt(\"Data1.txt\", delimiter=\" \")\n",
    "# deriv=diff(data)\n",
    "# squares=deriv**2\n",
    "# plt.plot(range(0,data.shape[0]),squares)\n",
    "    "
   ]
  },
  {
   "cell_type": "code",
   "execution_count": 139,
   "metadata": {},
   "outputs": [],
   "source": [
    "#function to compute autocorrelation\n",
    "def my_autocorrelation(data):\n",
    "    result=np.zeros((data.shape[0]))\n",
    "    \n",
    "    for m in range(data.shape[0]):\n",
    "        \n",
    "        for i in range(1,data.shape[0]-m):\n",
    "            result[m]=result[m]+data[i]*data[i+m]\n",
    "    return result\n",
    "\n",
    "##OF just use the python function //this one was added for testing but i'm using mine in the main code\n",
    "def autocorr(x):\n",
    "    result = np.correlate(x, x, mode='full')\n",
    "    return result[result.size // 2:]\n",
    "\n",
    "        "
   ]
  },
  {
   "cell_type": "code",
   "execution_count": 140,
   "metadata": {},
   "outputs": [],
   "source": [
    "#function to get the average time between beats\n",
    "def get_heart_rate(autocorr_output,sampling_time=(1/512)):\n",
    "    temp=autocorr_output[50:600]\n",
    "    average_RR = max(temp)\n",
    "    avg_RR_index=0\n",
    "    for i in range(autocorr_output.shape[0]):\n",
    "        if autocorr_output[i]== average_RR:\n",
    "            avg_RR_index=i\n",
    "           # print(i)\n",
    "            break\n",
    "    heart_rate=60/(avg_RR_index*sampling_time)\n",
    "    return heart_rate,avg_RR_index"
   ]
  },
  {
   "cell_type": "code",
   "execution_count": 141,
   "metadata": {},
   "outputs": [],
   "source": [
    "#Function to combine all of the above just return the heart rate\n",
    "def ECG_Analysis(data_file_name,sampling_time=(1/512),window_size=31):\n",
    "    \n",
    "    data = np.loadtxt(data_file_name, delimiter=\" \")\n",
    "    deriv=diff(data,sampling_time)\n",
    "    squares=deriv**2\n",
    "    smooth=smoothing(squares,window_size)\n",
    "    \n",
    "    #print(squares,smooth)\n",
    "    \n",
    "    ac=my_autocorrelation(smooth)\n",
    "    heart_rate,avg_RR_index=get_heart_rate(ac,sampling_time)\n",
    "    \n",
    "    #PLOTS\n",
    "    x_values= range(0,data.shape[0])\n",
    "    \n",
    "    #___\n",
    "    f, (ax1, ax2) = plt.subplots(1, 2, figsize=(24, 9))\n",
    "    f.tight_layout()\n",
    "    \n",
    "    ax1.plot(x_values,data)\n",
    "    ax1.set_title('Original ECG Signal', fontsize=30)\n",
    "\n",
    "    ax2.plot(x_values,deriv)\n",
    "    ax2.set_title('Differentiated Signal ', fontsize=30)\n",
    "    \n",
    "    plt.subplots_adjust(left=0., right=1, top=0.9, bottom=0.)\n",
    "    #___\n",
    "    \n",
    "    f2, (ax3,ax4)=plt.subplots(1,2,figsize=(24,9))\n",
    "    f2.tight_layout()\n",
    "    \n",
    "    ax3.plot(x_values,squares)\n",
    "    ax3.set_title('Squared',fontsize=30)\n",
    "    \n",
    "    ax4.plot(x_values,smooth)\n",
    "    ax4.set_title('Smoothed',fontsize=30)\n",
    "    #_____\n",
    "    \n",
    "    f3, (ax5,ax6)=plt.subplots(1,2,figsize=(24,9))\n",
    "    #f3.tight_layout()\n",
    "    \n",
    "    ax6.plot(x_values,ac)\n",
    "    ax6.set_title('AutoCorr2',fontsize=30)\n",
    "    plt.xlabel('Lag', fontsize=18)\n",
    "    plt.ylabel('Value', fontsize=18)\n",
    "\n",
    "    #FOR DELIVERY PURPOSES\n",
    "    #ax6.plot(x_values[:2000],smooth[:2000])\n",
    "    #ax6.set_title('Squared',fontsize=30)\n",
    "    #plt.xlabel('Samples', fontsize=18)\n",
    "    #plt.ylabel('Amplitude', fontsize=18)\n",
    "    \n",
    "    \n",
    "    #___\n",
    "    #print(heart_rate)\n",
    "    return heart_rate,avg_RR_index\n",
    "\n",
    "    \n",
    "    \n",
    "\n",
    "    \n",
    "    \n",
    "    \n",
    "    "
   ]
  },
  {
   "cell_type": "code",
   "execution_count": 142,
   "metadata": {},
   "outputs": [
    {
     "name": "stdout",
     "output_type": "stream",
     "text": [
      "This Person's heart rate is:  (67.22100656455142, 457)  bpm\n"
     ]
    }
   ],
   "source": [
    "#APPLY ON PROBLEM 1\n",
    "print(\"This Person's heart rate is: \",ECG_Analysis(\"Data1.txt\"),\" bpm\")\n"
   ]
  },
  {
   "cell_type": "code",
   "execution_count": 143,
   "metadata": {},
   "outputs": [
    {
     "name": "stdout",
     "output_type": "stream",
     "text": [
      "This Person's heart rate is:  130.72340425531914  bpm\n"
     ]
    }
   ],
   "source": [
    "#NOW APPLYING THIS ON PROBLEM 2\n",
    "bpm,index=ECG_Analysis(\"Data2.txt\")\n",
    "print(\"This Person's heart rate is: \",bpm,\" bpm\")"
   ]
  },
  {
   "cell_type": "code",
   "execution_count": 144,
   "metadata": {},
   "outputs": [
    {
     "name": "stdout",
     "output_type": "stream",
     "text": [
      "0.002188183807439825\n",
      "FOR DATA1  NORMAL\n",
      "0.00425531914893617\n",
      "FOR DATA2  ATRIAL FIB\n"
     ]
    }
   ],
   "source": [
    "#MY SUGGESTED MEASURE IS THE INVERSE OF THE INDEX OF THE 2ND HIGHEST BEAT IN THE AUTOCORRELATION\n",
    "#KNOWING THAT THE HEART BEAT RATE'S NORMAL RANGE is between 60-90 bpm -->\n",
    "#Using the formula (hear_rate=60/(index*sampling_time)) -->\n",
    "#we can say that the index's normal range is 512-341.33\n",
    "#And thus the inverse's normal range is (0.00292-0.00195)\n",
    "def test_atrial_fib(file_name,sampling_time=(1/512),window_size=31):\n",
    "    bpm,index=ECG_Analysis(file_name)\n",
    "    measure=1/index\n",
    "    print(measure)\n",
    "    if ((measure>0.00195) and (measure<0.00292)) :\n",
    "        result= \"NORMAL\"\n",
    "    else:\n",
    "        result =\"ATRIAL FIB\"\n",
    "    return result\n",
    "print(\"FOR DATA1 \",test_atrial_fib(\"Data1.txt\"))\n",
    "print(\"FOR DATA2 \",test_atrial_fib(\"Data2.txt\"))\n",
    "    "
   ]
  },
  {
   "cell_type": "code",
   "execution_count": null,
   "metadata": {},
   "outputs": [],
   "source": []
  }
 ],
 "metadata": {
  "kernelspec": {
   "display_name": "Python 3",
   "language": "python",
   "name": "python3"
  },
  "language_info": {
   "codemirror_mode": {
    "name": "ipython",
    "version": 3
   },
   "file_extension": ".py",
   "mimetype": "text/x-python",
   "name": "python",
   "nbconvert_exporter": "python",
   "pygments_lexer": "ipython3",
   "version": "3.7.0"
  }
 },
 "nbformat": 4,
 "nbformat_minor": 2
}
